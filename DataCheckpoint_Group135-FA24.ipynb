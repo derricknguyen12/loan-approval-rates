{
 "cells": [
  {
   "cell_type": "markdown",
   "metadata": {},
   "source": [
    "# COGS 108 - Data Checkpoint"
   ]
  },
  {
   "cell_type": "markdown",
   "metadata": {},
   "source": [
    "# Names\n",
    "\n",
    "- Derrick Nguyen\n",
    "- Amelia Lei\n",
    "- Eunice Cho\n",
    "- Samantha Lin"
   ]
  },
  {
   "cell_type": "markdown",
   "metadata": {},
   "source": [
    "# Research Question"
   ]
  },
  {
   "cell_type": "markdown",
   "metadata": {},
   "source": [
    "How do factors such as employment length, income, and loan amount affect loan approval rates for young adults (ages 18-28) who recently graduated with different educational levels (high school diploma, bachelor's degree, or master’s/PhD)? How do these effects compare to mid-career adults (over age 28) with similar educational backgrounds?"
   ]
  },
  {
   "cell_type": "markdown",
   "metadata": {},
   "source": [
    "## Background and Prior Work"
   ]
  },
  {
   "cell_type": "markdown",
   "metadata": {},
   "source": [
    "As young college students nearing graduation, understanding loan approval factors is highly relevant to us as we prepare to navigate personal finance and credit. Many young adults, including ourselves, may soon be considering loans, whether for further education, purchasing a car, or other personal investments. Having a clear grasp of the variables that impact loan approvals—such as income, employment length, and debt-to-income ratio—can empower us and others in our age group to make better financial decisions and improve our creditworthiness. This research seeks insights into how employment length, income, and loan amount impact approval likelihoods for young adults (ages 20-24) versus those over 24, highlighting any disparities across age groups. The dataset we chose allows us to analyze these financial factors in depth, aiming to provide actionable insights for young adults interested in securing credit and managing loans more effectively as they start their careers.\n",
    "\n",
    "According to the Consumer Financial Protection Bureau, lenders are prohibited from accepting or denying a loan application solely based on age <a name=\"cite_ref-1\"></a>[<sup>1</sup>](#cite_note-1). However, they are allowed to assess an individual’s age in relation to other factors such as job stability to evaluate the sustainability of the loan. We want to look at which factor or combination of factors in relation to age have the most significant impact on a lender’s decision making. \n",
    "\n",
    "This project by Lim Chia Hooi was a loan-approval prediction project that looks to classify whether or not a person will be approved for loans based on their info (applicant income, Coapplicant income, loan amount, loan amount term, credit history, and loan status), and we faced the same question wondering what and how each attribute contributes to the decision of whether or not a loan will be approved  <a name=\"cite_ref-2\"></a>[<sup>2</sup>](#cite_note-2). In this project’s exploratory analysis section, they’ve found that there seems to be a correlation between applicant income and loan amount and credit history and loan status . In addition to that, they’ve also found that people with credit history are more likely to be approved for a loan.\n",
    "\n",
    "In another research paper comparing machine learning model methods for loan approval predictions, they found that K-Best and RFE (Recursive Feature Selection) worked best at improving the accuracy of loan prediction models <a name=\"cite_ref-3\"></a>[<sup>3</sup>](#cite_note-3). They also conducted an exploratory data analysis and found that factors such as education level, gender, and marital status were also contributing factors to loan approvals. \n",
    "\n",
    "References:\n",
    "1. <a name=\"cite_note-1\"></a> [^](#cite_ref-1) Consumer Financial Protection Bureau (18 Aug 2022) Is a lender allowed to consider my age or where my income comes from when deciding whether to give me a loan?. *Consumer Financial Protection Bureau*. https://www.consumerfinance.gov/ask-cfpb/is-a-lender-allowed-to-consider-my-age-or-where-my-income-comes-from-when-deciding-whether-to-give-me-a-loan-en-1181/\n",
    "\n",
    "2. <a name=\"cite_note-1\"></a> [^](#cite_ref-1) limchiahooi (26 Dec 2018) Loan Approval Prediction. *GitHub*. https://github.com/limchiahooi/loan-approval-prediction/blob/master/loan-approval-prediction.ipynb\n",
    "\n",
    "3. <a name=\"cite_note-1\"></a> [^](#cite_ref-1) Sinap, Vahid. (30 Apr 2024) A Comparative Study of Loan Approval Prediction Using Machine Learning\n",
    "Methods. *Gazi University - Journal of Science Part C: Design and Technology*. https://dergipark.org.tr/tr/download/article-file/3808895\n"
   ]
  },
  {
   "cell_type": "markdown",
   "metadata": {},
   "source": [
    "# Hypothesis\n"
   ]
  },
  {
   "cell_type": "markdown",
   "metadata": {},
   "source": [
    "We predict that young adults (ages 18-28) who recently graduated with higher educational levels (master’s/PhD) are more likely to be approved for home mortage loans compared to those with only a high school diploma or bachelor's degree, as higher education often correlates with higher income potential and job stability. However, mid-career adults (over age 24) with similar educational backgrounds may experience higher loan approval rates overall due to longer employment lengths (4 years or more) and type of employemnt (full-time, unemployed, self-employed, and part-time)."
   ]
  },
  {
   "cell_type": "markdown",
   "metadata": {},
   "source": [
    "# Data"
   ]
  },
  {
   "cell_type": "markdown",
   "metadata": {},
   "source": [
    "## Dataset Overview\n",
    "  - Dataset Name: Loan Default Prediction Dataset\n",
    "  - Link to the dataset: https://www.kaggle.com/datasets/nikhil1e9/loan-default\n",
    "  - Number of observations: 255347\n",
    "  - Number of variables: 18\n",
    "\n",
    "Our ideal dataset would have the following variables: \n",
    "- Age (The age of the borrower) - Int\n",
    "- Income (The annual income of the borrower) - Int \n",
    "- LoanAmount (The amount of money being borrowed) - Int \n",
    "- MonthsEmployed (The number of months the borrower has been employed) - Int\n",
    "- Education (The highest level of education attained by the borrower (PhD, Master's, Bachelor's, High School)) - String\n",
    "- EmploymentType (The type of employment status of the borrower (Full-time, Part-time, Self-employed, Unemployed)) - String\n",
    "- LoanPurpose (The purpose of the loan (Home, Auto, Education, Business, Other)) - String\n",
    "- Default (The binary target variable indicating whether the loan defaulted (1) or not (0)) - Int\n",
    "\n",
    "Age would be a proxy for life stage and income potential. Income would be a proxy for indicating financial stability and ability to repay. Loan amount would be a proxy for affordability and risk. Months employed woud be a proxy for job stability and likelihood of continued income. Education owuld be a rpoxy for employability and earning potential. Employment type would be a proxy for income predictability. Loan purpose would be a proxy for risk. There should be at least 10,000 observations to have less bias and variability. This data would be collected on adults over the age of 18. There should be a significant amount of observations for those in the age range 18-28 as well as 28+. This data would be collected off of Kaggle. The data would be stored in a CSV file to make it convenient for creating a dataframe using pandas. \n",
    "\n",
    "First, we need to drop any columns in the dataset that we do not need for our analysis. For the Age and Income column we might need to do a histogram to see if there are any outliers, and if we do, we need to delete those observation from the dataframe. For the MonthsEmployed column we need to make sure that all observations in this column is in the unit of months, and if we find something that isn't looking right we will need to convert it to months. For the Education, EmploymentType, LoanPurpose columns we can make sure to check for typos and fix them accordingly. For the default column, we need to check that all values are either 1 or 0. Overall, we will also be looking for missing values, and we will be removing them or filling them in depending on other relevent context."
   ]
  },
  {
   "cell_type": "markdown",
   "metadata": {},
   "source": [
    "## Loan Default Prediction Dataset "
   ]
  },
  {
   "cell_type": "code",
   "execution_count": 1,
   "metadata": {},
   "outputs": [],
   "source": [
    "import pandas as pd\n",
    "import numpy as np\n",
    "import seaborn as sns\n",
    "import matplotlib.pyplot as plt\n",
    "\n",
    "loans = pd.read_csv('Loan_default.csv')"
   ]
  },
  {
   "cell_type": "code",
   "execution_count": 41,
   "metadata": {},
   "outputs": [],
   "source": [
    "loans = loans.drop(columns = ['CreditScore', 'NumCreditLines', 'InterestRate', 'LoanTerm', 'DTIRatio', 'MaritalStatus', 'HasMortgage', 'HasDependents', 'HasCoSigner'])"
   ]
  },
  {
   "cell_type": "code",
   "execution_count": null,
   "metadata": {},
   "outputs": [
    {
     "name": "stdout",
     "output_type": "stream",
     "text": [
      "LoanID type: object\n",
      "Age type: int64\n",
      "Income type: int64\n",
      "LoanAmount type: int64\n",
      "MonthsEmployed type: int64\n",
      "Education type: object\n",
      "EmploymentType type: object\n",
      "LoanPurpose type: object\n",
      "Default type: int64\n"
     ]
    }
   ],
   "source": [
    "for i in loans.columns:\n",
    "    print(f'{i} type: {loans[i].dtypes}')"
   ]
  },
  {
   "cell_type": "code",
   "execution_count": 51,
   "metadata": {},
   "outputs": [
    {
     "data": {
      "text/html": [
       "<div>\n",
       "<style scoped>\n",
       "    .dataframe tbody tr th:only-of-type {\n",
       "        vertical-align: middle;\n",
       "    }\n",
       "\n",
       "    .dataframe tbody tr th {\n",
       "        vertical-align: top;\n",
       "    }\n",
       "\n",
       "    .dataframe thead th {\n",
       "        text-align: right;\n",
       "    }\n",
       "</style>\n",
       "<table border=\"1\" class=\"dataframe\">\n",
       "  <thead>\n",
       "    <tr style=\"text-align: right;\">\n",
       "      <th></th>\n",
       "      <th>Age</th>\n",
       "      <th>Income</th>\n",
       "      <th>LoanAmount</th>\n",
       "      <th>MonthsEmployed</th>\n",
       "      <th>Default</th>\n",
       "    </tr>\n",
       "  </thead>\n",
       "  <tbody>\n",
       "    <tr>\n",
       "      <th>count</th>\n",
       "      <td>255347.000000</td>\n",
       "      <td>255347.000000</td>\n",
       "      <td>255347.000000</td>\n",
       "      <td>255347.000000</td>\n",
       "      <td>255347.000000</td>\n",
       "    </tr>\n",
       "    <tr>\n",
       "      <th>mean</th>\n",
       "      <td>43.498306</td>\n",
       "      <td>82499.304597</td>\n",
       "      <td>127578.865512</td>\n",
       "      <td>59.541976</td>\n",
       "      <td>0.116128</td>\n",
       "    </tr>\n",
       "    <tr>\n",
       "      <th>std</th>\n",
       "      <td>14.990258</td>\n",
       "      <td>38963.013729</td>\n",
       "      <td>70840.706142</td>\n",
       "      <td>34.643376</td>\n",
       "      <td>0.320379</td>\n",
       "    </tr>\n",
       "    <tr>\n",
       "      <th>min</th>\n",
       "      <td>18.000000</td>\n",
       "      <td>15000.000000</td>\n",
       "      <td>5000.000000</td>\n",
       "      <td>0.000000</td>\n",
       "      <td>0.000000</td>\n",
       "    </tr>\n",
       "    <tr>\n",
       "      <th>25%</th>\n",
       "      <td>31.000000</td>\n",
       "      <td>48825.500000</td>\n",
       "      <td>66156.000000</td>\n",
       "      <td>30.000000</td>\n",
       "      <td>0.000000</td>\n",
       "    </tr>\n",
       "    <tr>\n",
       "      <th>50%</th>\n",
       "      <td>43.000000</td>\n",
       "      <td>82466.000000</td>\n",
       "      <td>127556.000000</td>\n",
       "      <td>60.000000</td>\n",
       "      <td>0.000000</td>\n",
       "    </tr>\n",
       "    <tr>\n",
       "      <th>75%</th>\n",
       "      <td>56.000000</td>\n",
       "      <td>116219.000000</td>\n",
       "      <td>188985.000000</td>\n",
       "      <td>90.000000</td>\n",
       "      <td>0.000000</td>\n",
       "    </tr>\n",
       "    <tr>\n",
       "      <th>max</th>\n",
       "      <td>69.000000</td>\n",
       "      <td>149999.000000</td>\n",
       "      <td>249999.000000</td>\n",
       "      <td>119.000000</td>\n",
       "      <td>1.000000</td>\n",
       "    </tr>\n",
       "  </tbody>\n",
       "</table>\n",
       "</div>"
      ],
      "text/plain": [
       "                 Age         Income     LoanAmount  MonthsEmployed  \\\n",
       "count  255347.000000  255347.000000  255347.000000   255347.000000   \n",
       "mean       43.498306   82499.304597  127578.865512       59.541976   \n",
       "std        14.990258   38963.013729   70840.706142       34.643376   \n",
       "min        18.000000   15000.000000    5000.000000        0.000000   \n",
       "25%        31.000000   48825.500000   66156.000000       30.000000   \n",
       "50%        43.000000   82466.000000  127556.000000       60.000000   \n",
       "75%        56.000000  116219.000000  188985.000000       90.000000   \n",
       "max        69.000000  149999.000000  249999.000000      119.000000   \n",
       "\n",
       "             Default  \n",
       "count  255347.000000  \n",
       "mean        0.116128  \n",
       "std         0.320379  \n",
       "min         0.000000  \n",
       "25%         0.000000  \n",
       "50%         0.000000  \n",
       "75%         0.000000  \n",
       "max         1.000000  "
      ]
     },
     "execution_count": 51,
     "metadata": {},
     "output_type": "execute_result"
    }
   ],
   "source": [
    "loans.describe()"
   ]
  },
  {
   "cell_type": "code",
   "execution_count": 52,
   "metadata": {},
   "outputs": [
    {
     "data": {
      "image/png": "[encoded data removed]",
      "text/plain": [
       "<Figure size 640x480 with 1 Axes>"
      ]
     },
     "metadata": {},
     "output_type": "display_data"
    }
   ],
   "source": [
    "sns.histplot(data=loans, x='Income')\n",
    "plt.show()"
   ]
  },
  {
   "cell_type": "code",
   "execution_count": 53,
   "metadata": {},
   "outputs": [
    {
     "data": {
      "image/png": "[encoded data removed]",
      "text/plain": [
       "<Figure size 640x480 with 1 Axes>"
      ]
     },
     "metadata": {},
     "output_type": "display_data"
    }
   ],
   "source": [
    "sns.histplot(data=loans, x='Age')\n",
    "plt.show()"
   ]
  },
  {
   "cell_type": "code",
   "execution_count": 54,
   "metadata": {},
   "outputs": [
    {
     "data": {
      "text/plain": [
       "array([ 80,  15,  26,   0,   8,  18,  67,  83, 114,  94,  56,  87, 112,\n",
       "        31,  49, 106, 119,  65,  96,  55,  48,  73, 110,  58,  62,  16,\n",
       "        57,  37,   6, 103,  39,  51,  24, 105,  47, 117,  32,  99,  84,\n",
       "        72,  88,  27,  36,  33,  59,  20,  54,  76,  66,  11,  23,  22,\n",
       "        93,  35,  50,  69,  70, 111,  63,   9,   1,  44,  25,  71, 101,\n",
       "        53,  45,  91,  52,  74,  86,   4,  10,  82,   7,  79,  85,  12,\n",
       "        17,  28,  68, 100,  60, 115,  43,  14,  13, 104,  95, 118, 113,\n",
       "        97, 108,  40,  77, 109,  34,  41,  92,  46,   2,   3,  78, 116,\n",
       "        89,  75,  81,   5,  90, 107,  98,  21,  64,  29,  30,  19,  38,\n",
       "        61,  42, 102])"
      ]
     },
     "execution_count": 54,
     "metadata": {},
     "output_type": "execute_result"
    }
   ],
   "source": [
    "loans['MonthsEmployed'].unique()"
   ]
  },
  {
   "cell_type": "code",
   "execution_count": 55,
   "metadata": {},
   "outputs": [
    {
     "data": {
      "text/plain": [
       "array([\"Bachelor's\", \"Master's\", 'High School', 'PhD'], dtype=object)"
      ]
     },
     "execution_count": 55,
     "metadata": {},
     "output_type": "execute_result"
    }
   ],
   "source": [
    "loans['Education'].unique()"
   ]
  },
  {
   "cell_type": "code",
   "execution_count": 56,
   "metadata": {},
   "outputs": [
    {
     "data": {
      "text/plain": [
       "array(['Other', 'Auto', 'Business', 'Home', 'Education'], dtype=object)"
      ]
     },
     "execution_count": 56,
     "metadata": {},
     "output_type": "execute_result"
    }
   ],
   "source": [
    "loans['LoanPurpose'].unique()"
   ]
  },
  {
   "cell_type": "code",
   "execution_count": 57,
   "metadata": {},
   "outputs": [
    {
     "data": {
      "text/plain": [
       "array(['Full-time', 'Unemployed', 'Self-employed', 'Part-time'],\n",
       "      dtype=object)"
      ]
     },
     "execution_count": 57,
     "metadata": {},
     "output_type": "execute_result"
    }
   ],
   "source": [
    "loans['EmploymentType'].unique()"
   ]
  },
  {
   "cell_type": "code",
   "execution_count": 58,
   "metadata": {},
   "outputs": [
    {
     "data": {
      "text/plain": [
       "array([0, 1])"
      ]
     },
     "execution_count": 58,
     "metadata": {},
     "output_type": "execute_result"
    }
   ],
   "source": [
    "loans['Default'].unique()"
   ]
  },
  {
   "cell_type": "code",
   "execution_count": 59,
   "metadata": {},
   "outputs": [
    {
     "data": {
      "text/plain": [
       "LoanID            0\n",
       "Age               0\n",
       "Income            0\n",
       "LoanAmount        0\n",
       "MonthsEmployed    0\n",
       "Education         0\n",
       "EmploymentType    0\n",
       "LoanPurpose       0\n",
       "Default           0\n",
       "dtype: int64"
      ]
     },
     "execution_count": 59,
     "metadata": {},
     "output_type": "execute_result"
    }
   ],
   "source": [
    "loans.isnull().sum()"
   ]
  },
  {
   "cell_type": "markdown",
   "metadata": {},
   "source": [
    "# Ethics & Privacy"
   ]
  },
  {
   "cell_type": "markdown",
   "metadata": {},
   "source": [
    "We need to consider the privacy of individuals in our dataset because we have access to sensitive information such as their age, employment status, gender, credit history, income, and marital status. Additional columns that we have access to provide details including months employed, number of credit lines, education level, and employment type. These variables are crucial for a data analysis but they may raise privacy concerns as they contain personal information. The LoanID column anonmyizes the individuals identity to ensure privacy. This allows us to make meaningful analysis without threatening the individuals privacy. Our data lacks geographical data which means it does not account for the socioeconomic differences across regions. The absence of this could unequally represent people from different socioeconomic backgrounds. This is a limitation that we will keep in mind in our analysis. The results of our analysis could impact students by providing insights into the factors that affect loan approval and qualification. For instance, it may be revealed that younger borrowers with less work experience or lower incomes are at a higher risk of loan rejection, which could guide them on improving their profiles. In addition, financial institutions may use our findings to refine their loan approval criteria. By identifying which factors (income, credit history, months employed) are strong predictors of loan default, they can better assess risk and make more informed lending decisions. As we are unsure of the exact data collection methods, there may be biases that influence who is included in the dataset. For example, individuals with poor credit history or unconventional employment types might be underrepresented. We will acknowledge the potential for selection bias in our analysis and discuss its possible effects on the results. This allows stakeholders to interpret the findings with caution, understanding that the dataset might not fully reflect the diversity of loan applicants and where possible, we will segment the data by relevant categories (e.g., age groups, income levels, education levels) to assess if certain groups are disproportionately affected by the bias."
   ]
  },
  {
   "cell_type": "markdown",
   "metadata": {},
   "source": [
    "# Team Expectations "
   ]
  },
  {
   "cell_type": "markdown",
   "metadata": {},
   "source": [
    "* We will be using Discord for our communication\n",
    "* We should meet once a week to work on our project virtually\n",
    "* Our tone should be calm and polite when dicussing things\n",
    "* Our decision making of the project will be a majority vote\n",
    "* Everyone will do a little bit of every part of the project\n",
    "* Tasks will be assigned to people through communication on Discord and working on the project once a week virtually\n",
    "* We will be using the project timeline proposal as the plan for deadlines\n",
    "* If a person is struggling, they should ask the group as soon as possible and everyone should try to help\n",
    "* The person should contact the group through Discord"
   ]
  },
  {
   "cell_type": "markdown",
   "metadata": {},
   "source": [
    "# Project Timeline Proposal"
   ]
  },
  {
   "cell_type": "markdown",
   "metadata": {},
   "source": [
    "| Meeting Date  | Meeting Time| Completed Before Meeting  | Discuss at Meeting |\n",
    "|---|---|---|---|\n",
    "| 10/13  |  7 PM | Read & Think about COGS 108 expectations; brainstorm topics/questions  | Determine best form of communication; Discuss and decide on final project topic; discuss hypothesis; begin background research | \n",
    "| 10/21  |  7 PM |  Do background research on topic | Discuss ideal dataset(s) and ethics; draft project proposal | \n",
    "| 10/29  | 7 PM  | Edit, finalize, and submit proposal; Search for datasets  | Discuss Wrangling and possible analytical approaches; Assign group members to lead each specific part   |\n",
    "| 11/7  | 7 PM  | Import & Wrangle Data; EDA | Review/Edit wrangling/EDA; Discuss Analysis Plan   |\n",
    "| 11/21  | 7 PM  | Finalize wrangling/EDA; Begin Analysis | Discuss/edit Analysis; Complete project check-in |\n",
    "| 12/5  | 7 PM  | Complete analysis; Draft results/conclusion/discussion | Discuss/edit full project |\n",
    "| 12/10  | Before 11:59 PM  | NA | Turn in Final Project & Group Project Surveys |"
   ]
  }
 ],
 "metadata": {
  "kernelspec": {
   "display_name": "Python 3",
   "language": "python",
   "name": "python3"
  },
  "language_info": {
   "codemirror_mode": {
    "name": "ipython",
    "version": 3
   },
   "file_extension": ".py",
   "mimetype": "text/x-python",
   "name": "python",
   "nbconvert_exporter": "python",
   "pygments_lexer": "ipython3",
   "version": "3.12.1"
  }
 },
 "nbformat": 4,
 "nbformat_minor": 2
}
