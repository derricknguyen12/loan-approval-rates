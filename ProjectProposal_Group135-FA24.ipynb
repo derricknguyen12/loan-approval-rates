{
 "cells": [
  {
   "cell_type": "markdown",
   "metadata": {},
   "source": [
    "# COGS 108 - Project Proposal"
   ]
  },
  {
   "cell_type": "markdown",
   "metadata": {},
   "source": [
    "# Names\n",
    "\n",
    "- Derrick Nguyen\n",
    "- Amelia Lei\n",
    "- Eunice Cho\n",
    "- Samantha Lin"
   ]
  },
  {
   "cell_type": "markdown",
   "metadata": {},
   "source": [
    "# Research Question"
   ]
  },
  {
   "cell_type": "markdown",
   "metadata": {},
   "source": [
    "What effects do factors such as length of employment, income, and loan amount have in determining whether or not a young adult (20-24 years old) gets approved for a loan and how does that compare to an adult over the age of 24?"
   ]
  },
  {
   "cell_type": "markdown",
   "metadata": {},
   "source": [
    "## Background and Prior Work"
   ]
  },
  {
   "cell_type": "markdown",
   "metadata": {},
   "source": [
    "As young college students nearing graduation, understanding loan approval factors is highly relevant to us as we prepare to navigate personal finance and credit. Many young adults, including ourselves, may soon be considering loans, whether for further education, purchasing a car, or other personal investments. Having a clear grasp of the variables that impact loan approvals—such as income, employment length, and debt-to-income ratio—can empower us and others in our age group to make better financial decisions and improve our creditworthiness. This research seeks insights into how employment length, income, and loan amount impact approval likelihoods for young adults (ages 20-24) versus those over 24, highlighting any disparities across age groups. The dataset we chose allows us to analyze these financial factors in depth, aiming to provide actionable insights for young adults interested in securing credit and managing loans more effectively as they start their careers.\n",
    "\n",
    "According to the Consumer Financial Protection Bureau, lenders are prohibited from accepting or denying a loan application solely based on age <a name=\"cite_ref-1\"></a>[<sup>1</sup>](#cite_note-1). However, they are allowed to assess an individual’s age in relation to other factors such as job stability to evaluate the sustainability of the loan <a name=\"cite_ref-1\"></a>[<sup>1</sup>](#cite_note-1). We want to look at which factor or combination of factors in relation to age have the most significant impact on a lender’s decision making <a name=\"cite_ref-1\"></a>[<sup>1</sup>](#cite_note-1). \n",
    "\n",
    "This project by Lim Chia Hooi was a loan-approval prediction project that looks to classify whether or not a person will be approved for loans based on their info (applicant income, Coapplicant income, loan amount, loan amount term, credit history, and loan status), and we faced the same question wondering what and how each attribute contributes to the decision of whether or not a loan will be approved  <a name=\"cite_ref-2\"></a>[<sup>2</sup>](#cite_note-2). In this project’s exploratory analysis section, they’ve found that there seems to be a correlation between applicant income and loan amount and credit history and loan status <a name=\"cite_ref-2\"></a>[<sup>2</sup>](#cite_note-2). In addition to that, they’ve also found that people with credit history are more likely to be approved for a loan <a name=\"cite_ref-2\"></a>[<sup>2</sup>](#cite_note-2).\n",
    "\n",
    "In another research paper comparing machine learning model methods for loan approval predictions, they found that K-Best and RFE (Recursive Feature Selection) worked best at improving the accuracy of loan prediction models <a name=\"cite_ref-3\"></a>[<sup>3</sup>](#cite_note-3). They also conducted an exploratory data analysis and found that factors such as education level, gender, and marital status were also contributing factors to loan approvals <a name=\"cite_ref-3\"></a>[<sup>3</sup>](#cite_note-3). \n",
    "\n",
    "References:\n",
    "1. <a name=\"cite_note-1\"></a> [^](#cite_ref-1) Consumer Financial Protection Bureau (18 Aug 2022) Is a lender allowed to consider my age or where my income comes from when deciding whether to give me a loan?. *Consumer Financial Protection Bureau*. https://www.consumerfinance.gov/ask-cfpb/is-a-lender-allowed-to-consider-my-age-or-where-my-income-comes-from-when-deciding-whether-to-give-me-a-loan-en-1181/\n",
    "\n",
    "2. <a name=\"cite_note-1\"></a> [^](#cite_ref-1) limchiahooi (26 Dec 2018) Loan Approval Prediction. *GitHub*. https://github.com/limchiahooi/loan-approval-prediction/blob/master/loan-approval-prediction.ipynb\n",
    "\n",
    "3. <a name=\"cite_note-1\"></a> [^](#cite_ref-1) Sinap, Vahid. (30 Apr 2024) A Comparative Study of Loan Approval Prediction Using Machine Learning\n",
    "Methods. *Gazi University - Journal of Science Part C: Design and Technology*. https://dergipark.org.tr/tr/download/article-file/3808895"
   ]
  },
  {
   "cell_type": "markdown",
   "metadata": {},
   "source": [
    "# Hypothesis\n"
   ]
  },
  {
   "cell_type": "markdown",
   "metadata": {},
   "source": [
    "\n",
    "We predict that employment history will have a larger negative effect on loan approval for adults aged 20-24 compared to those over the age of 24. Adults aged 20-24 are seen as less reliable to lenders as they are likely fresh out of college with little to no employment history, less stable income, and shorter credit history. "
   ]
  },
  {
   "cell_type": "markdown",
   "metadata": {},
   "source": [
    "# Data"
   ]
  },
  {
   "cell_type": "markdown",
   "metadata": {},
   "source": [
    "1. Our ideal dataset would have the following variables: age, income, length of employment, loan amount, gender, education, credit history, marital status, assets, number of dependents. There should be at least 10,000 observations to have less bias and variability. This data would be collected on adults over the age of 20. There should be a significant amount of observations for those in the age range 20-24 as well as 24+. This data would be collected off of Kaggle. The data would be stored in a CSV file to make it convenient for creating a dataframe using pandas. \n",
    "\n",
    "Dataset Link:\n",
    "\n",
    "https://www.kaggle.com/datasets/itshappy/ps4e9-original-data-loan-approval-prediction/data\n",
    "\n",
    "https://www.kaggle.com/datasets/architsharma01/loan-approval-prediction-dataset"
   ]
  },
  {
   "cell_type": "markdown",
   "metadata": {},
   "source": [
    "# Ethics & Privacy"
   ]
  },
  {
   "cell_type": "markdown",
   "metadata": {},
   "source": [
    "We need to consider the privacy of the user as we are keeping track of their age, employment status, gender, and credit history. A potential bias can be that there is a lot more data on younger adults than adults over the age of 24. This would create an underrepresentation of loan applications from adults over the age of 24 and lead to a biased interpretation of the results. Since these datasets don’t have geographical data, there could be socioeconomic biases as it doesn’t take into account that lower-income neighborhoods might be less likely to apply for loans. \n",
    "\n",
    "To handle these issues we will make sure to delete any columns that can identify a person by either name or ID, and we will be looking to combine different datasets to get an equivalent number of people from all different ranges of age, or if we aren’t able to find that much data, we will consider sampling the available data and do analysis on that to ensure that it can fully represent the population. "
   ]
  },
  {
   "cell_type": "markdown",
   "metadata": {},
   "source": [
    "# Team Expectations "
   ]
  },
  {
   "cell_type": "markdown",
   "metadata": {},
   "source": [
    "* We will be using Discord for our communication\n",
    "* We should meet once a week to work on our project virtually\n",
    "* Our tone should be calm and polite when dicussing things\n",
    "* Our decision making of the project will be a majority vote\n",
    "* Everyone will do a little bit of every part of the project\n",
    "* Tasks will be assigned to people through communication on Discord and working on the project once a week virtually\n",
    "* We will be using the project timeline proposal as the plan for deadlines\n",
    "* If a person is struggling, they should ask the group as soon as possible and everyone should try to help\n",
    "* The person should contact the group through Discord"
   ]
  },
  {
   "cell_type": "markdown",
   "metadata": {},
   "source": [
    "# Project Timeline Proposal"
   ]
  },
  {
   "cell_type": "markdown",
   "metadata": {},
   "source": [
    "| Meeting Date  | Meeting Time| Completed Before Meeting  | Discuss at Meeting |\n",
    "|---|---|---|---|\n",
    "| 10/13  |  7 PM | Read & Think about COGS 108 expectations; brainstorm topics/questions  | Determine best form of communication; Discuss and decide on final project topic; discuss hypothesis; begin background research | \n",
    "| 10/21  |  7 PM |  Do background research on topic | Discuss ideal dataset(s) and ethics; draft project proposal | \n",
    "| 10/29  | 7 PM  | Edit, finalize, and submit proposal; Search for datasets  | Discuss Wrangling and possible analytical approaches; Assign group members to lead each specific part   |\n",
    "| 11/7  | 7 PM  | Import & Wrangle Data; EDA | Review/Edit wrangling/EDA; Discuss Analysis Plan   |\n",
    "| 11/21  | 7 PM  | Finalize wrangling/EDA; Begin Analysis | Discuss/edit Analysis; Complete project check-in |\n",
    "| 12/5  | 7 PM  | Complete analysis; Draft results/conclusion/discussion | Discuss/edit full project |\n",
    "| 12/10  | Before 11:59 PM  | NA | Turn in Final Project & Group Project Surveys |"
   ]
  },
  {
   "cell_type": "markdown",
   "metadata": {},
   "source": []
  }
 ],
 "metadata": {
  "kernelspec": {
   "display_name": "Python 3 (ipykernel)",
   "language": "python",
   "name": "python3"
  },
  "language_info": {
   "codemirror_mode": {
    "name": "ipython",
    "version": 3
   },
   "file_extension": ".py",
   "mimetype": "text/x-python",
   "name": "python",
   "nbconvert_exporter": "python",
   "pygments_lexer": "ipython3",
   "version": "3.9.7"
  }
 },
 "nbformat": 4,
 "nbformat_minor": 2
}
